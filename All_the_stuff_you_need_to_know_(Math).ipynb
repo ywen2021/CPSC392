{
  "cells": [
    {
      "cell_type": "code",
      "execution_count": null,
      "metadata": {
        "id": "vHp9JYtzBKxp"
      },
      "outputs": [],
      "source": [
        "### before run the code, install plotnine using following code\n",
        "#!pip install plotnine"
      ]
    },
    {
      "cell_type": "code",
      "execution_count": null,
      "metadata": {
        "id": "114IniA8BKxr"
      },
      "outputs": [],
      "source": [
        "import numpy as np\n",
        "import pandas as pd\n",
        "from scipy import stats\n",
        "\n",
        "from plotnine import *"
      ]
    },
    {
      "cell_type": "markdown",
      "metadata": {
        "id": "ToIPS3IvBKxr"
      },
      "source": [
        "# Together\n",
        "\n",
        "## Distributions\n",
        "\n",
        "A distribution is a curve (although sometimes it's pretty straight) that shows how common or uncommon different values are. For example, this is a normal distribution with mean = 0 and standard deviation = 1. Which values are relatively common under this distribution? Uncommon?\n",
        "\n",
        "<img src=\"https://drive.google.com/uc?export=view&id=1G0l7s0oheMJRt0I0j9qm_rNbRpogVobo\" width = 600px />\n",
        "\n",
        "\n",
        "What about this one?\n",
        "<img src=\"https://drive.google.com/uc?export=view&id=1FZ0YZCHBIZZ-4RYo7pUssuSz-fwGc2Jn\" width = 600px />\n"
      ]
    },
    {
      "cell_type": "markdown",
      "metadata": {
        "id": "AhglPkHUBKxs"
      },
      "source": [
        "# In Your Groups\n",
        "\n",
        "## Logarithms\n",
        "\n",
        "Use your new pandas skills to add a column, `logX` to the dataframe DF that contains the log ([`np.log()`](https://numpy.org/doc/stable/reference/generated/numpy.log.html)) of the column `X`.\n",
        "\n",
        "Then run the pre-written code (no need to change anything) to plot the log function.\n",
        "\n",
        "What range of values can the log() function take in? What range of values can the log function spit out? What happens to values < 1 when you log() them? What about values > 1?\n",
        "\n",
        "<img src=\"https://drive.google.com/uc?export=view&id=1ghyQPx1N8dmU3MV4TrANvqNhGwnLni72\" width = 200px />"
      ]
    },
    {
      "cell_type": "code",
      "execution_count": null,
      "metadata": {
        "id": "fwdRhcajBKxs"
      },
      "outputs": [],
      "source": [
        "DF = pd.DataFrame({\"X\": np.linspace(0.0001,10, 10000)})\n",
        "\n",
        "\n",
        "\n",
        "### YOUR CODE HERE ###\n",
        "\n",
        "\n",
        "### /YOUR CODE HERE ###"
      ]
    },
    {
      "cell_type": "code",
      "execution_count": null,
      "metadata": {
        "id": "X4JUszLeBKxs"
      },
      "outputs": [],
      "source": [
        "# DONT CHANGE, JUST RUN\n",
        "\n",
        "(ggplot(DF, aes(x = \"X\", y = \"logX\")) +\n",
        " geom_line(color = \"darkblue\", size = 3) +\n",
        " theme_bw() +\n",
        "theme(panel_border = element_blank(),\n",
        "     panel_grid_minor = element_blank()))"
      ]
    },
    {
      "cell_type": "markdown",
      "metadata": {
        "id": "OEVnMPCwBKxs"
      },
      "source": [
        "## Data Types\n",
        "\n",
        "In your lecture, you learned about different types of data/variables we could have. Go to our course github and click on the *Data* folder. Get the raw URL for the **Beyonce_data.csv** dataset and load it in using `pd.read_csv()`. Store your dataframe in the variable `bey`, and print the head of the dataframe.\n",
        "Link for data: https://raw.githubusercontent.com/ywen2021/CPSC392/main/Data/Beyonce_data.csv\n",
        "<img src=\"https://drive.google.com/uc?export=view&id=1ghyQPx1N8dmU3MV4TrANvqNhGwnLni72\" width = 200px />"
      ]
    },
    {
      "cell_type": "code",
      "execution_count": null,
      "metadata": {
        "id": "DuQrbZxoBKxt"
      },
      "outputs": [],
      "source": [
        "bey = ###"
      ]
    },
    {
      "cell_type": "markdown",
      "metadata": {
        "id": "lpYvlmTtBKxt"
      },
      "source": [
        "What types are all the variables?\n",
        "\n",
        "- Categorical:\n",
        "    - nominal:\n",
        "    - ordinal:\n",
        "- Numeric:\n",
        "\n",
        "If a variable is Categorical, how do you decide if it's nominal, ordinal? Give an example of each.\n",
        "<img src=\"https://drive.google.com/uc?export=view&id=1ghyQPx1N8dmU3MV4TrANvqNhGwnLni72\" width = 200px />"
      ]
    },
    {
      "cell_type": "markdown",
      "metadata": {
        "id": "5i74AMrHBKxt"
      },
      "source": [
        "## Probabilities and Conditional Probabilities\n",
        "\n",
        "Remember that in general, probabilities are\n",
        "\n",
        "$\\frac{\\text{# of events of interest}}{\\text{total # of events}}$\n",
        "\n",
        "Given this information, and the dataframe `voters`, calculate the probability of:\n",
        "\n",
        "- being a registered voter\n",
        "- being a vegetarian AND a registered voter\n",
        "\n",
        "<img src=\"https://drive.google.com/uc?export=view&id=1ghyQPx1N8dmU3MV4TrANvqNhGwnLni72\" width = 200px />"
      ]
    },
    {
      "cell_type": "code",
      "execution_count": null,
      "metadata": {
        "id": "dtBbNejWBKxt"
      },
      "outputs": [],
      "source": [
        "registered = ['no', 'yes', 'yes', 'no', 'no', 'yes', 'yes', 'yes', 'no', 'no',\n",
        "       'yes', 'no', 'no', 'no', 'yes', 'yes', 'no', 'no', 'no', 'yes']\n",
        "\n",
        "diet = ['Meat_Eater', 'Vegetarian', 'Vegetarian', 'Vegan', 'Vegetarian',\n",
        "       'Vegetarian', 'Vegetarian', 'Vegetarian', 'Meat_Eater', 'Vegan',\n",
        "       'Vegan', 'Vegetarian', 'Meat_Eater', 'Meat_Eater', 'Vegan',\n",
        "       'Vegan', 'Vegetarian', 'Meat_Eater', 'Meat_Eater', 'Vegetarian']\n",
        "\n",
        "voters = pd.DataFrame({\"RegisteredToVote\": registered, \"Diet\": diet})\n",
        "\n",
        "voters\n",
        "\n",
        "#\n",
        "\n",
        "voters_reg = voters[\"RegisteredToVote\"] == \"yes\"\n",
        "\n",
        "print(voters_reg)\n",
        "\n",
        "voters[voters_reg]"
      ]
    },
    {
      "cell_type": "markdown",
      "metadata": {
        "id": "I4_NHVBABKxu"
      },
      "source": [
        "**Conditional probabilities** are just probabilities where the total events are *restricted* by some kind of information.\n",
        "\n",
        "For example: $P(\\textbf{Vegetarian | registered to vote})$ (in words we'd say this as \"the Probability of being Vegetarian *given* that you are registered to vote\") means that we want to know the probability of being Vegetarian when ONLY looking at registered voters. This means that the denominator of our probability will only count registered voters.\n",
        "\n",
        "There are 9 registered voters in our data frame, and out of those 9, 6 are Vegetarian. So $P(\\textbf{Vegetarian | registered to vote})$  = $\\frac{6}{9}$.\n",
        "\n",
        "Using the data frame `booksRead` below which indicates the responses from 25 people about which books they had read in the past 5 years, calculate (using code or by hand) the following probabilites:\n",
        "- P(read Tale of Two Cities)\n",
        "- P(read the Bible)\n",
        "- P(read What to Expect When You're Expecting **|** read Tale of Two Cities)\n",
        "- P(read What to Expect When You're Expecting **|** read Tale of Two Cities **AND** the Bible)\n",
        "- P(read How to Win Friends and Influence People **|** did not read LOTR)\n",
        "- P(read LOTR **AND** Tale of Two Cities)\n",
        "\n",
        "<img src=\"https://drive.google.com/uc?export=view&id=1ghyQPx1N8dmU3MV4TrANvqNhGwnLni72\" width = 200px />"
      ]
    },
    {
      "cell_type": "code",
      "execution_count": null,
      "metadata": {
        "id": "DylGzeSQBKxu"
      },
      "outputs": [],
      "source": [
        "taleOfTwoCities = ['yes', 'yes', 'yes', 'no', 'yes', 'yes', 'no', 'yes', 'yes', 'no',\n",
        "       'yes', 'no', 'yes', 'yes', 'yes', 'yes', 'yes', 'yes', 'yes',\n",
        "       'yes', 'yes', 'yes', 'yes', 'yes', 'yes']\n",
        "\n",
        "bible = ['yes', 'yes', 'yes', 'yes', 'yes', 'yes', 'yes', 'yes', 'yes',\n",
        "       'yes', 'yes', 'yes', 'yes', 'yes', 'yes', 'yes', 'yes', 'yes',\n",
        "       'yes', 'yes', 'yes', 'no', 'yes', 'yes', 'yes']\n",
        "\n",
        "howToWinFriendsAndInfluencePeople = ['yes', 'no', 'no', 'no', 'no', 'no', 'yes', 'yes', 'no', 'no',\n",
        "       'yes', 'no', 'no', 'no', 'no', 'yes', 'no', 'no', 'no', 'no', 'no',\n",
        "       'no', 'no', 'no', 'yes']\n",
        "\n",
        "whatToExpectWhenYoureExpecting = ['yes', 'yes', 'yes', 'no', 'yes', 'yes', 'yes', 'no', 'no', 'yes',\n",
        "       'no', 'no', 'yes', 'no', 'no', 'no', 'no', 'no', 'no', 'no', 'no',\n",
        "       'no', 'yes', 'no', 'yes']\n",
        "\n",
        "LOTR = ['yes', 'yes', 'no', 'no', 'no', 'no', 'no', 'yes', 'no', 'no',\n",
        "       'no', 'no', 'no', 'yes', 'yes', 'no', 'no', 'no', 'no', 'no',\n",
        "       'yes', 'yes', 'no', 'yes', 'no']\n",
        "\n",
        "booksRead = pd.DataFrame({\"taleOfTwoCities\": taleOfTwoCities,\n",
        "                         \"bible\": bible,\n",
        "                         \"howToWinFriendsAndInfluencePeople\": howToWinFriendsAndInfluencePeople,\n",
        "                         \"whatToExpectWhenYoureExpecting\": whatToExpectWhenYoureExpecting,\n",
        "                         \"LOTR\": LOTR})\n",
        "\n",
        "booksRead"
      ]
    },
    {
      "cell_type": "markdown",
      "metadata": {
        "id": "Lm3OyQ-DBKxu"
      },
      "source": [
        "## Odds"
      ]
    },
    {
      "cell_type": "markdown",
      "metadata": {
        "id": "vKnCnUE_BKxu"
      },
      "source": [
        "Odds are the probability of something happening, divided by the probabilit of it not happening. What are the **Odds** of the following events:\n",
        "\n",
        "- The odds of Bob scoring a goal during a soccer game if P(Bob scoring a goal during a soccer game) = 0.2\n",
        "- The odds of flipping a heads on a fair coin if P(head) = 0.5\n",
        "- The odds of your professor showing up in a Dinosaur costume today if P(professor showing up in a Dinosaur costume) = 0.7\n",
        "- The odds of NOT winning the lottery if P(winning the lottery) = 0.0000001\n",
        "\n",
        "<img src=\"https://drive.google.com/uc?export=view&id=1ghyQPx1N8dmU3MV4TrANvqNhGwnLni72\" width = 200px />"
      ]
    }
  ],
  "metadata": {
    "hide_input": false,
    "kernelspec": {
      "display_name": "Python 3 (ipykernel)",
      "language": "python",
      "name": "python3"
    },
    "language_info": {
      "codemirror_mode": {
        "name": "ipython",
        "version": 3
      },
      "file_extension": ".py",
      "mimetype": "text/x-python",
      "name": "python",
      "nbconvert_exporter": "python",
      "pygments_lexer": "ipython3",
      "version": "3.9.0"
    },
    "toc": {
      "base_numbering": 1,
      "nav_menu": {},
      "number_sections": true,
      "sideBar": true,
      "skip_h1_title": false,
      "title_cell": "Table of Contents",
      "title_sidebar": "Contents",
      "toc_cell": false,
      "toc_position": {},
      "toc_section_display": true,
      "toc_window_display": false
    },
    "colab": {
      "provenance": []
    }
  },
  "nbformat": 4,
  "nbformat_minor": 0
}