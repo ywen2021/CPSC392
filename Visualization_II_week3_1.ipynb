{
 "cells": [
  {
   "cell_type": "code",
   "execution_count": 1,
   "metadata": {},
   "outputs": [],
   "source": [
    "import warnings\n",
    "warnings.filterwarnings('ignore')"
   ]
  },
  {
   "cell_type": "markdown",
   "metadata": {},
   "source": [
    "# Classwork\n",
    "1. import the necessary packages\n",
    "\n",
    "2. Use heart disease data set to build a BAD graph (`\"https://raw.githubusercontent.com/ywen2021/CPSC392/main/Data/heart.csv\"`).\n",
    "    * have fun with it! What could you make worse? Add visual clutter? Reduce Contrast? Make it inaccessible? Make the message difficult to understand?\n",
    "    * Talk in your Breakout groups about WHY these things make the graph bad.\n",
    "    \n",
    "3. Use heart disease data set to answer the question of whether people with heart disease (\n",
    "people with heart disease have a value of 1 for the variable target) have higher cholesterol\n",
    "than people without heart disease. Create your graph one step at a time, starting with a\n",
    "default ggplot() + geom_XXX() type of graph and build from there, adding markdown cells\n",
    "to explain your reasoning for making changes. Think about the principles :\n",
    "(1) which elements do NOT support your message? Take them out (you can google gg-\n",
    "plot/plotnine syntax to figure out how to remove or change things like text, grids, axes,\n",
    "legends...etc)\n",
    "(2) which elements DO support your message? How can you make these more notice-\n",
    "able/salient?\n",
    "(3) Who is your audience? How can you make your graph more inclusive and accessible?"
   ]
  },
  {
   "cell_type": "code",
   "execution_count": null,
   "metadata": {},
   "outputs": [],
   "source": []
  },
  {
   "cell_type": "markdown",
   "metadata": {},
   "source": [
    "\n",
    "4. Use the KC house data (`\"https://raw.githubusercontent.com/ywen2021/CPSC392/main/Data/kc_house_data.csv\"`) to build a clear graph that answers the question \"Is the relationship between price and square footage the same for houses with different numbers of floors?\". Create your graph starting with a default `ggplot() + geom_XXX()` type of graph and build from there. Again, think about the principles mentioned above."
   ]
  },
  {
   "cell_type": "code",
   "execution_count": 1,
   "metadata": {},
   "outputs": [],
   "source": []
  }
 ],
 "metadata": {
  "hide_input": false,
  "kernelspec": {
   "display_name": "Python 3 (ipykernel)",
   "language": "python",
   "name": "python3"
  },
  "language_info": {
   "codemirror_mode": {
    "name": "ipython",
    "version": 3
   },
   "file_extension": ".py",
   "mimetype": "text/x-python",
   "name": "python",
   "nbconvert_exporter": "python",
   "pygments_lexer": "ipython3",
   "version": "3.9.0"
  },
  "toc": {
   "base_numbering": 1,
   "nav_menu": {},
   "number_sections": true,
   "sideBar": true,
   "skip_h1_title": false,
   "title_cell": "Table of Contents",
   "title_sidebar": "Contents",
   "toc_cell": false,
   "toc_position": {},
   "toc_section_display": true,
   "toc_window_display": false
  },
  "vscode": {
   "interpreter": {
    "hash": "aee8b7b246df8f9039afb4144a1f6fd8d2ca17a180786b69acc140d282b71a49"
   }
  }
 },
 "nbformat": 4,
 "nbformat_minor": 4
}
