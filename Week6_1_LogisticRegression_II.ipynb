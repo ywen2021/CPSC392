{
  "cells": [
    {
      "cell_type": "code",
      "execution_count": null,
      "metadata": {
        "id": "2RZhJ4SunpYD"
      },
      "outputs": [],
      "source": [
        "import warnings\n",
        "warnings.filterwarnings('ignore')\n",
        "\n",
        "\n",
        "import pandas as pd\n",
        "import numpy as np\n",
        "from plotnine import *\n",
        "\n",
        "# modelling\n",
        "from sklearn.linear_model import LogisticRegression\n",
        "from sklearn.preprocessing import StandardScaler, OneHotEncoder, LabelBinarizer #Z-score variables\n",
        "\n",
        "# performance\n",
        "from sklearn.metrics import accuracy_score, confusion_matrix,\\\n",
        " f1_score, recall_score, precision_score, roc_auc_score\n",
        "from sklearn.metrics import ConfusionMatrixDisplay, RocCurveDisplay\n",
        "from sklearn.calibration import calibration_curve\n",
        "\n",
        "# model validation imports\n",
        "from sklearn.model_selection import train_test_split # simple TT split cv\n",
        "from sklearn.model_selection import KFold # k-fold cv\n",
        "from sklearn.model_selection import LeaveOneOut #LOO cv\n",
        "\n",
        "# pipeline imports\n",
        "from sklearn.pipeline import make_pipeline, Pipeline\n",
        "from sklearn.compose import make_column_transformer"
      ]
    },
    {
      "cell_type": "markdown",
      "metadata": {
        "id": "qNGsPq-hC5op"
      },
      "source": [
        "# Review\n",
        "\n",
        "## Metrics\n",
        "Once we build a classification model, it's important to make sure that we know how it performs! We talked about a few metrics you can calculate to help you assess how well your model is doing.\n",
        "\n",
        "- Accuracy: $\\frac{TP + TN}{TP + TN + FP + FN}$\n",
        "- Confusion Matrix Patterns\n",
        "\n",
        "|                 | **Actually 0**          | **Actually 1**          |\n",
        "|-----------------|-------------------------|-------------------------|\n",
        "| **Predicted 0** | True Positive **(TP)**  | False Positive **(FP)** |\n",
        "| **Predicted 1** | False Negative **(FN)** | True Negative **(TN)**  |\n",
        "\n",
        "But there are [others](https://scikit-learn.org/stable/modules/classes.html#module-sklearn.metrics)!\n",
        "\n",
        "- **Precision**: $\\frac{TP}{TP + FP}$, how many of the predicted positives are true positives?\n",
        "\n",
        "- **Recall/Sensitivity**: $\\frac{TP}{TP + FN}$, how many of the actual positives did we accurately predict?\n",
        "\n",
        "- **Specificity**: $\\frac{TN}{TN + FP}$, how many of the actual negatives did we accurately predict?\n",
        "\n",
        "- **F1 Score**: $\\frac{2 * Precision * Recall}{Precision + Recall}$, a combination of precision and recall.\n",
        "\n",
        "- **ROC AUC**: The area under the ROC curve which puts the False Positive Rate (FPR) on the x-axis, and the True Positive Rate on the y-axis.\n",
        "\n",
        "\n",
        "## Calibration\n",
        "We also talked about model **calibration** which measures how closely a model's predicted probabilities match that actual probabilities of the data point being positive.\n",
        "\n",
        "Calibration isn't necessary for an *accurate* prediction, but if we want to use the model's predicted probabilities, we need to make sure they're well-calibrated.\n",
        "\n",
        "<img src=\"https://drive.google.com/uc?export=view&id=1MRzfxWOaLumqtVHVGGm0kY5gPah-3mxC\" alt=\"Q\" width = \"400\"/>\n",
        "\n"
      ]
    },
    {
      "cell_type": "markdown",
      "metadata": {
        "id": "-8CCJU3tC5op"
      },
      "source": [
        "# `sklearn`\n",
        "\n",
        "## Lizzo\n",
        "Let's build a Logistic Regression Model to predict the `mode` of different Lizzo songs. Then we'll check the performance of the model, as well as the calibration."
      ]
    },
    {
      "cell_type": "code",
      "execution_count": null,
      "metadata": {
        "colab": {
          "base_uri": "https://localhost:8080/",
          "height": 404
        },
        "id": "hz6Zgu7EnpYJ",
        "outputId": "6d2dbddd-f519-4edf-c772-a71061ffd01c"
      },
      "outputs": [
        {
          "data": {
            "text/html": [
              "<div>\n",
              "<style scoped>\n",
              "    .dataframe tbody tr th:only-of-type {\n",
              "        vertical-align: middle;\n",
              "    }\n",
              "\n",
              "    .dataframe tbody tr th {\n",
              "        vertical-align: top;\n",
              "    }\n",
              "\n",
              "    .dataframe thead th {\n",
              "        text-align: right;\n",
              "    }\n",
              "</style>\n",
              "<table border=\"1\" class=\"dataframe\">\n",
              "  <thead>\n",
              "    <tr style=\"text-align: right;\">\n",
              "      <th></th>\n",
              "      <th>artist_name</th>\n",
              "      <th>artist_id</th>\n",
              "      <th>album_id</th>\n",
              "      <th>album_type</th>\n",
              "      <th>album_release_date</th>\n",
              "      <th>album_release_year</th>\n",
              "      <th>album_release_date_precision</th>\n",
              "      <th>danceability</th>\n",
              "      <th>energy</th>\n",
              "      <th>key</th>\n",
              "      <th>...</th>\n",
              "      <th>track_name</th>\n",
              "      <th>track_preview_url</th>\n",
              "      <th>track_number</th>\n",
              "      <th>type</th>\n",
              "      <th>track_uri</th>\n",
              "      <th>external_urls.spotify</th>\n",
              "      <th>album_name</th>\n",
              "      <th>key_name</th>\n",
              "      <th>mode_name</th>\n",
              "      <th>key_mode</th>\n",
              "    </tr>\n",
              "  </thead>\n",
              "  <tbody>\n",
              "    <tr>\n",
              "      <th>1</th>\n",
              "      <td>Lizzo</td>\n",
              "      <td>56oDRnqbIiwx4mymNEv7dS</td>\n",
              "      <td>6dFFcYQ8VhifgdKgYY5LYL</td>\n",
              "      <td>album</td>\n",
              "      <td>2019-04-19</td>\n",
              "      <td>2019</td>\n",
              "      <td>day</td>\n",
              "      <td>0.566</td>\n",
              "      <td>0.660</td>\n",
              "      <td>1</td>\n",
              "      <td>...</td>\n",
              "      <td>Cuz I Love You</td>\n",
              "      <td>https://p.scdn.co/mp3-preview/04472d81bc5a9669...</td>\n",
              "      <td>1</td>\n",
              "      <td>track</td>\n",
              "      <td>spotify:track:6YdQgWSpsxhVeX6Xmv3IFJ</td>\n",
              "      <td>https://open.spotify.com/track/6YdQgWSpsxhVeX6...</td>\n",
              "      <td>Cuz I Love You</td>\n",
              "      <td>C#</td>\n",
              "      <td>major</td>\n",
              "      <td>C# major</td>\n",
              "    </tr>\n",
              "    <tr>\n",
              "      <th>2</th>\n",
              "      <td>Lizzo</td>\n",
              "      <td>56oDRnqbIiwx4mymNEv7dS</td>\n",
              "      <td>6dFFcYQ8VhifgdKgYY5LYL</td>\n",
              "      <td>album</td>\n",
              "      <td>2019-04-19</td>\n",
              "      <td>2019</td>\n",
              "      <td>day</td>\n",
              "      <td>0.694</td>\n",
              "      <td>0.807</td>\n",
              "      <td>2</td>\n",
              "      <td>...</td>\n",
              "      <td>Like a Girl</td>\n",
              "      <td>https://p.scdn.co/mp3-preview/4f917112d7f75e2c...</td>\n",
              "      <td>2</td>\n",
              "      <td>track</td>\n",
              "      <td>spotify:track:5I7sGubUsKo4mVJpBoSVUr</td>\n",
              "      <td>https://open.spotify.com/track/5I7sGubUsKo4mVJ...</td>\n",
              "      <td>Cuz I Love You</td>\n",
              "      <td>D</td>\n",
              "      <td>major</td>\n",
              "      <td>D major</td>\n",
              "    </tr>\n",
              "    <tr>\n",
              "      <th>3</th>\n",
              "      <td>Lizzo</td>\n",
              "      <td>56oDRnqbIiwx4mymNEv7dS</td>\n",
              "      <td>6dFFcYQ8VhifgdKgYY5LYL</td>\n",
              "      <td>album</td>\n",
              "      <td>2019-04-19</td>\n",
              "      <td>2019</td>\n",
              "      <td>day</td>\n",
              "      <td>0.767</td>\n",
              "      <td>0.889</td>\n",
              "      <td>7</td>\n",
              "      <td>...</td>\n",
              "      <td>Juice</td>\n",
              "      <td>https://p.scdn.co/mp3-preview/7ca1598cec36c491...</td>\n",
              "      <td>3</td>\n",
              "      <td>track</td>\n",
              "      <td>spotify:track:0k664IuFwVP557Gnx7RhIl</td>\n",
              "      <td>https://open.spotify.com/track/0k664IuFwVP557G...</td>\n",
              "      <td>Cuz I Love You</td>\n",
              "      <td>G</td>\n",
              "      <td>major</td>\n",
              "      <td>G major</td>\n",
              "    </tr>\n",
              "    <tr>\n",
              "      <th>4</th>\n",
              "      <td>Lizzo</td>\n",
              "      <td>56oDRnqbIiwx4mymNEv7dS</td>\n",
              "      <td>6dFFcYQ8VhifgdKgYY5LYL</td>\n",
              "      <td>album</td>\n",
              "      <td>2019-04-19</td>\n",
              "      <td>2019</td>\n",
              "      <td>day</td>\n",
              "      <td>0.693</td>\n",
              "      <td>0.849</td>\n",
              "      <td>7</td>\n",
              "      <td>...</td>\n",
              "      <td>Soulmate</td>\n",
              "      <td>https://p.scdn.co/mp3-preview/467bc6a734bfb66e...</td>\n",
              "      <td>4</td>\n",
              "      <td>track</td>\n",
              "      <td>spotify:track:6h2wpo2pshM8QnAvRySEO0</td>\n",
              "      <td>https://open.spotify.com/track/6h2wpo2pshM8QnA...</td>\n",
              "      <td>Cuz I Love You</td>\n",
              "      <td>G</td>\n",
              "      <td>major</td>\n",
              "      <td>G major</td>\n",
              "    </tr>\n",
              "    <tr>\n",
              "      <th>5</th>\n",
              "      <td>Lizzo</td>\n",
              "      <td>56oDRnqbIiwx4mymNEv7dS</td>\n",
              "      <td>6dFFcYQ8VhifgdKgYY5LYL</td>\n",
              "      <td>album</td>\n",
              "      <td>2019-04-19</td>\n",
              "      <td>2019</td>\n",
              "      <td>day</td>\n",
              "      <td>0.674</td>\n",
              "      <td>0.542</td>\n",
              "      <td>8</td>\n",
              "      <td>...</td>\n",
              "      <td>Jerome</td>\n",
              "      <td>https://p.scdn.co/mp3-preview/8f662de51ad3f613...</td>\n",
              "      <td>5</td>\n",
              "      <td>track</td>\n",
              "      <td>spotify:track:3kxsEF30mM0TZWfkOv4XsS</td>\n",
              "      <td>https://open.spotify.com/track/3kxsEF30mM0TZWf...</td>\n",
              "      <td>Cuz I Love You</td>\n",
              "      <td>G#</td>\n",
              "      <td>major</td>\n",
              "      <td>G# major</td>\n",
              "    </tr>\n",
              "  </tbody>\n",
              "</table>\n",
              "<p>5 rows × 36 columns</p>\n",
              "</div>"
            ],
            "text/plain": [
              "  artist_name               artist_id                album_id album_type  \\\n",
              "1       Lizzo  56oDRnqbIiwx4mymNEv7dS  6dFFcYQ8VhifgdKgYY5LYL      album   \n",
              "2       Lizzo  56oDRnqbIiwx4mymNEv7dS  6dFFcYQ8VhifgdKgYY5LYL      album   \n",
              "3       Lizzo  56oDRnqbIiwx4mymNEv7dS  6dFFcYQ8VhifgdKgYY5LYL      album   \n",
              "4       Lizzo  56oDRnqbIiwx4mymNEv7dS  6dFFcYQ8VhifgdKgYY5LYL      album   \n",
              "5       Lizzo  56oDRnqbIiwx4mymNEv7dS  6dFFcYQ8VhifgdKgYY5LYL      album   \n",
              "\n",
              "  album_release_date  album_release_year album_release_date_precision  \\\n",
              "1         2019-04-19                2019                          day   \n",
              "2         2019-04-19                2019                          day   \n",
              "3         2019-04-19                2019                          day   \n",
              "4         2019-04-19                2019                          day   \n",
              "5         2019-04-19                2019                          day   \n",
              "\n",
              "   danceability  energy  key  ...      track_name  \\\n",
              "1         0.566   0.660    1  ...  Cuz I Love You   \n",
              "2         0.694   0.807    2  ...     Like a Girl   \n",
              "3         0.767   0.889    7  ...           Juice   \n",
              "4         0.693   0.849    7  ...        Soulmate   \n",
              "5         0.674   0.542    8  ...          Jerome   \n",
              "\n",
              "                                   track_preview_url  track_number   type  \\\n",
              "1  https://p.scdn.co/mp3-preview/04472d81bc5a9669...             1  track   \n",
              "2  https://p.scdn.co/mp3-preview/4f917112d7f75e2c...             2  track   \n",
              "3  https://p.scdn.co/mp3-preview/7ca1598cec36c491...             3  track   \n",
              "4  https://p.scdn.co/mp3-preview/467bc6a734bfb66e...             4  track   \n",
              "5  https://p.scdn.co/mp3-preview/8f662de51ad3f613...             5  track   \n",
              "\n",
              "                              track_uri  \\\n",
              "1  spotify:track:6YdQgWSpsxhVeX6Xmv3IFJ   \n",
              "2  spotify:track:5I7sGubUsKo4mVJpBoSVUr   \n",
              "3  spotify:track:0k664IuFwVP557Gnx7RhIl   \n",
              "4  spotify:track:6h2wpo2pshM8QnAvRySEO0   \n",
              "5  spotify:track:3kxsEF30mM0TZWfkOv4XsS   \n",
              "\n",
              "                               external_urls.spotify      album_name  \\\n",
              "1  https://open.spotify.com/track/6YdQgWSpsxhVeX6...  Cuz I Love You   \n",
              "2  https://open.spotify.com/track/5I7sGubUsKo4mVJ...  Cuz I Love You   \n",
              "3  https://open.spotify.com/track/0k664IuFwVP557G...  Cuz I Love You   \n",
              "4  https://open.spotify.com/track/6h2wpo2pshM8QnA...  Cuz I Love You   \n",
              "5  https://open.spotify.com/track/3kxsEF30mM0TZWf...  Cuz I Love You   \n",
              "\n",
              "   key_name mode_name  key_mode  \n",
              "1        C#     major  C# major  \n",
              "2         D     major   D major  \n",
              "3         G     major   G major  \n",
              "4         G     major   G major  \n",
              "5        G#     major  G# major  \n",
              "\n",
              "[5 rows x 36 columns]"
            ]
          },
          "execution_count": 5,
          "metadata": {},
          "output_type": "execute_result"
        }
      ],
      "source": [
        "d = pd.read_csv(\"https://raw.githubusercontent.com/ywen2021/CPSC392/main/Data/Lizzo_data.csv\", index_col=0)\n",
        "\n",
        "# turn boolean into 0's and 1's (not necessary, but helps with confusion over True/False)\n",
        "d[\"explicit\"] = d[\"explicit\"].astype(\"int\")\n",
        "d.head()"
      ]
    },
    {
      "cell_type": "code",
      "execution_count": null,
      "metadata": {
        "colab": {
          "base_uri": "https://localhost:8080/",
          "height": 206
        },
        "id": "49MUuIqSn_Av",
        "outputId": "5391e035-89f3-4fa7-97dd-f82af4c567d2"
      },
      "outputs": [
        {
          "name": "stdout",
          "output_type": "stream",
          "text": [
            "Train Acc       :  0.6842105263157895\n",
            "Train Prescision:  0.6756756756756757\n",
            "Train Recall    :  1.0\n",
            "Train F1        :  0.8064516129032258\n",
            "Train ROC AUC   :  0.676923076923077\n",
            "Test Acc        :  0.7\n",
            "Test Prescision :  0.7\n",
            "Test Recall     :  1.0\n",
            "Test F1         :  0.8235294117647058\n",
            "Test ROC AUC    :  0.5238095238095238\n"
          ]
        }
      ],
      "source": [
        "predictors = [\"danceability\", \"energy\", \"instrumentalness\", \"explicit\"]\n",
        "contin = [\"danceability\", \"energy\", \"instrumentalness\"]\n",
        "\n",
        "X = d[predictors]\n",
        "y = d[\"mode\"]\n",
        "\n",
        "X_train, X_test, y_train, y_test = train_test_split(X,\n",
        "                                                    y,\n",
        "                                                    test_size=0.2,\n",
        "                                                    random_state = 123)\n",
        "#random_state makes sure we have the same split each time\n",
        "\n",
        "# Create Empty Model\n",
        "pre = make_column_transformer((StandardScaler(), contin),\n",
        "                              remainder = \"passthrough\")\n",
        "lr = LogisticRegression()\n",
        "\n",
        "pipe = Pipeline([(\"pre\", pre), (\"model\", lr)])\n",
        "\n",
        "# fit\n",
        "pipe.fit(X_train, y_train)\n",
        "\n",
        "# predict\n",
        "\n",
        "y_pred_train = pipe.predict(X_train)\n",
        "y_pred_test = pipe.predict(X_test)\n",
        "\n",
        "y_pred_train_prob = pipe.predict_proba(X_train)[:,1]\n",
        "y_pred_test_prob = pipe.predict_proba(X_test)[:,1]\n",
        "\n",
        "# assess\n",
        "print(\"Train Acc       : \", accuracy_score(y_train, y_pred_train))\n",
        "print(\"Train Prescision: \", precision_score(y_train, y_pred_train))\n",
        "print(\"Train Recall    : \", recall_score(y_train, y_pred_train))\n",
        "print(\"Train F1        : \", f1_score(y_train, y_pred_train))\n",
        "print(\"Train ROC AUC   : \", roc_auc_score(y_train, y_pred_train_prob))\n",
        "\n",
        "\n",
        "print(\"Test Acc        : \", accuracy_score(y_test, y_pred_test))\n",
        "print(\"Test Prescision : \", precision_score(y_test, y_pred_test))\n",
        "print(\"Test Recall     : \", recall_score(y_test, y_pred_test))\n",
        "print(\"Test F1         : \", f1_score(y_test, y_pred_test))\n",
        "print(\"Test ROC AUC    : \", roc_auc_score(y_test, y_pred_test_prob))\n"
      ]
    },
    {
      "cell_type": "code",
      "execution_count": null,
      "metadata": {
        "id": "Uj_gqpnOC5or",
        "outputId": "87970cbb-8281-4f3c-f531-ec4781d36c55"
      },
      "outputs": [
        {
          "data": {
            "image/png": "[encoded data removed]",
            "text/plain": [
              "<Figure size 640x480 with 1 Axes>"
            ]
          },
          "metadata": {
            "image/png": {
              "height": 480,
              "width": 640
            }
          },
          "output_type": "display_data"
        },
        {
          "data": {
            "text/plain": [
              "<Figure Size: (640 x 480)>"
            ]
          },
          "execution_count": 7,
          "metadata": {},
          "output_type": "execute_result"
        }
      ],
      "source": [
        "# calibration\n",
        "prob_true, prob_pred = calibration_curve(y_train, y_pred_train_prob, n_bins=10)\n",
        "\n",
        "(ggplot() + geom_line(aes(x = prob_pred, y = prob_true))\n",
        "+ geom_abline(slope = 1, intercept = 0, color = \"red\", linetype = \"dashed\") +\n",
        "labs(x = \"Average Predicted Probability\",\n",
        "     y = \"Average Acual Probability\",\n",
        "     title = \"Calibration Curve\") +\n",
        "ylim([0,1]) + xlim([0,1]))"
      ]
    },
    {
      "cell_type": "code",
      "execution_count": null,
      "metadata": {
        "id": "teErAnidC5or",
        "outputId": "75eb558c-7fbe-46de-c7f8-95d8450fbcbd"
      },
      "outputs": [
        {
          "data": {
            "text/html": [
              "<div>\n",
              "<style scoped>\n",
              "    .dataframe tbody tr th:only-of-type {\n",
              "        vertical-align: middle;\n",
              "    }\n",
              "\n",
              "    .dataframe tbody tr th {\n",
              "        vertical-align: top;\n",
              "    }\n",
              "\n",
              "    .dataframe thead th {\n",
              "        text-align: right;\n",
              "    }\n",
              "</style>\n",
              "<table border=\"1\" class=\"dataframe\">\n",
              "  <thead>\n",
              "    <tr style=\"text-align: right;\">\n",
              "      <th></th>\n",
              "      <th>Coef</th>\n",
              "      <th>Name</th>\n",
              "      <th>Odds</th>\n",
              "    </tr>\n",
              "  </thead>\n",
              "  <tbody>\n",
              "    <tr>\n",
              "      <th>0</th>\n",
              "      <td>-0.311998</td>\n",
              "      <td>danceability</td>\n",
              "      <td>0.731983</td>\n",
              "    </tr>\n",
              "    <tr>\n",
              "      <th>1</th>\n",
              "      <td>0.291403</td>\n",
              "      <td>energy</td>\n",
              "      <td>1.338304</td>\n",
              "    </tr>\n",
              "    <tr>\n",
              "      <th>2</th>\n",
              "      <td>-0.079619</td>\n",
              "      <td>instrumentalness</td>\n",
              "      <td>0.923468</td>\n",
              "    </tr>\n",
              "    <tr>\n",
              "      <th>3</th>\n",
              "      <td>-0.529251</td>\n",
              "      <td>explicit</td>\n",
              "      <td>0.589046</td>\n",
              "    </tr>\n",
              "    <tr>\n",
              "      <th>4</th>\n",
              "      <td>1.030444</td>\n",
              "      <td>intercept</td>\n",
              "      <td>2.802308</td>\n",
              "    </tr>\n",
              "  </tbody>\n",
              "</table>\n",
              "</div>"
            ],
            "text/plain": [
              "       Coef              Name      Odds\n",
              "0 -0.311998      danceability  0.731983\n",
              "1  0.291403            energy  1.338304\n",
              "2 -0.079619  instrumentalness  0.923468\n",
              "3 -0.529251          explicit  0.589046\n",
              "4  1.030444         intercept  2.802308"
            ]
          },
          "execution_count": 8,
          "metadata": {},
          "output_type": "execute_result"
        }
      ],
      "source": [
        "# coefs\n",
        "coefficients = pd.DataFrame({\"Coef\": pipe.named_steps['model'].coef_[0], # grab array of coefficients\n",
        "                            \"Name\": predictors})\n",
        "intercept = pd.DataFrame({\"Coef\": pipe.named_steps['model'].intercept_[0], # grab intercept\n",
        "                                   \"Name\": \"intercept\"},\n",
        "                                   index = [coefficients.shape[0]]) # since this is only 1 row, assign row a row index\n",
        "\n",
        "coefficents_all = pd.concat([coefficients,intercept])\n",
        "coefficents_all[\"Odds\"] = np.exp(coefficents_all[\"Coef\"])\n",
        "coefficents_all"
      ]
    },
    {
      "cell_type": "markdown",
      "metadata": {
        "id": "CS2MmLIjC5or"
      },
      "source": [
        "## Coefficients\n",
        "\n",
        "Interpret the coefficients above."
      ]
    },
    {
      "cell_type": "markdown",
      "metadata": {
        "id": "dBTQpOyYC5or"
      },
      "source": [
        "# In Your Groups\n",
        "\n",
        "Now do the same thing but with a new dataset (https://raw.githubusercontent.com/ywen2021/CPSC392/main/Data/wine-quality-white-and-red.csv). For the description of dataset, you can find from Kaggle (https://www.kaggle.com/datasets/ruthgn/wine-quality-data-set-red-white-wine).\n",
        "\n",
        "Let's build a model that predicts whether a wine is `red` or `white` using *all* the other variables.\n",
        "\n",
        "(NOTE: because the column `type` is a string not a binary `0`/`1` variable, we'll need to use [`LabelBinarizer()`](https://scikit-learn.org/stable/modules/generated/sklearn.preprocessing.LabelBinarizer.html) to turn it into a binary variable.)"
      ]
    },
    {
      "cell_type": "code",
      "execution_count": null,
      "metadata": {
        "id": "ZHqb8PcoC5os"
      },
      "outputs": [],
      "source": [
        "# load in data\n",
        "w = pd.read_csv(\"wine-quality-white-and-red.csv\")\n",
        "# w.head()\n",
        "\n",
        "# check missing\n",
        "\n",
        "\n",
        "# drop\n",
        "\n",
        "\n",
        "# Binarize and X and Y\n",
        "\n",
        "\n",
        "\n",
        "# TTS\n",
        "\n",
        "# Create Empty Model\n",
        "\n",
        "\n",
        "# fit\n",
        "\n",
        "\n",
        "# predict\n",
        "\n",
        "# print the confusion matrix\n",
        "\n",
        "# assess\n"
      ]
    },
    {
      "cell_type": "code",
      "execution_count": null,
      "metadata": {
        "id": "0M8dSQvnC5os"
      },
      "outputs": [],
      "source": [
        "# calibration\n"
      ]
    },
    {
      "cell_type": "markdown",
      "metadata": {
        "id": "x7GcmEBVnpYL"
      },
      "source": [
        "## The Math of Log Odds, Odds, and Probabilities\n",
        "\n",
        "In the lecture, you saw a  graph demonstrating the way that Log Odds, Odds, and Probabilities change as a result of a 1-unit change in a predictor variable.\n",
        "\n",
        "Now YOU'RE going to make your own version to help you gain an intuitive sense for the math of log odds, odds, and probabilities.\n",
        "\n",
        "We're going to write a function that simulates a super simple logistic relationship: 1 predictor (X) and 1 binary outcome (y).\n"
      ]
    },
    {
      "cell_type": "code",
      "execution_count": null,
      "metadata": {
        "id": "NJDJD77hC5os"
      },
      "outputs": [],
      "source": [
        "def LogisticDataSimulator(intercept, slope, limits = 5):\n",
        "\n",
        "    #generate 1000 evenly spaced values between -limits and limits\n",
        "    predictor = np.linspace(-limits, limits, 1000)\n",
        "\n",
        "    # log odds of being registered to vote\n",
        "    log_odds = intercept + slope*predictor\n",
        "\n",
        "\n",
        "    # odds of being registered to vote\n",
        "    odds = np.exp(log_odds)\n",
        "\n",
        "\n",
        "    # probability of being registered to vote\n",
        "    probabilities =  odds/(1 + odds)\n",
        "\n",
        "\n",
        "\n",
        "    # put into a dataframe\n",
        "    df = pd.DataFrame({\"x\": predictor,\n",
        "                      \"logodds\": log_odds,\n",
        "                       \"odds\": odds,\n",
        "                       \"probabilities\": probabilities})\n",
        "\n",
        "    return(df)"
      ]
    },
    {
      "cell_type": "markdown",
      "metadata": {
        "id": "B5YSi07mnpYN"
      },
      "source": [
        "Use the dataframe that calling `LogisticDataSimulator()` with an intercept of 1 and slope of 0.5 makes, and recreate the graph of the log odds, odds, and probabilities from  today's lecture. Make separate graphs for logodds, odds, and probabilities to make your life easier.\n",
        "\n",
        "I don't believe that plotnine supports subtitles, so no need to include those but include the colored lines, the titles/axis labels, and the dotted vertical lines! Don't be afraid to google how to do things in ggplot (hint: google `geom_line()` and `geom_vline()`)."
      ]
    },
    {
      "cell_type": "code",
      "execution_count": null,
      "metadata": {
        "id": "lHDEPOQynpYO"
      },
      "outputs": [],
      "source": [
        "plot_data = LogisticDataSimulator(intercept = 1, slope = 0.5)\n",
        "\n",
        "#################################\n",
        "# YOUR CODE HERE\n",
        "#################################"
      ]
    },
    {
      "cell_type": "markdown",
      "metadata": {
        "id": "_nrsaJXWnpYP"
      },
      "source": [
        "### *Question*\n",
        "\n",
        "Describe in detail how the graphs demonstrate what we learned in class: that the change in predicted probability in response to a 1 unit increase of our predictor is *not constant*?\n",
        "\n",
        "<img src=\"https://drive.google.com/uc?export=view&id=1ghyQPx1N8dmU3MV4TrANvqNhGwnLni72\" width = 200px />\n"
      ]
    },
    {
      "cell_type": "code",
      "execution_count": null,
      "metadata": {
        "id": "Qzy-JjqDC5os"
      },
      "outputs": [],
      "source": []
    }
  ],
  "metadata": {
    "colab": {
      "provenance": []
    },
    "hide_input": false,
    "kernelspec": {
      "display_name": "Python 3 (ipykernel)",
      "language": "python",
      "name": "python3"
    },
    "language_info": {
      "codemirror_mode": {
        "name": "ipython",
        "version": 3
      },
      "file_extension": ".py",
      "mimetype": "text/x-python",
      "name": "python",
      "nbconvert_exporter": "python",
      "pygments_lexer": "ipython3",
      "version": "3.10.9"
    },
    "toc": {
      "base_numbering": 1,
      "nav_menu": {},
      "number_sections": true,
      "sideBar": true,
      "skip_h1_title": false,
      "title_cell": "Table of Contents",
      "title_sidebar": "Contents",
      "toc_cell": false,
      "toc_position": {},
      "toc_section_display": true,
      "toc_window_display": false
    }
  },
  "nbformat": 4,
  "nbformat_minor": 0
}