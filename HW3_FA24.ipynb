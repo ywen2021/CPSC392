{
  "cells": [
    {
      "cell_type": "markdown",
      "metadata": {
        "id": "MDYCTcmCsafa"
      },
      "source": [
        "# Homework 3\n",
        "Homeworks are an individual assessment, you should not work in groups.\n",
        "\n",
        "You will be turning in:\n",
        "\n",
        "1. An .ipynb or .py with just your code (show all code necessary for the analysis, but remove superfluous code)\n",
        "2. A PDF with your Report (rendered via Google Docs)\n"
      ]
    },
    {
      "cell_type": "markdown",
      "metadata": {
        "id": "QAmNiJ2nsafc"
      },
      "source": [
        "\n",
        "\n",
        "## Data\n",
        "We're going to do some customer segmentation for a **media company** (a digital magazine) to help them understand the needs of their customers better, and put them into useful groups of similar clusters. There are two datasets each of which is a random sample of `200` customers.\n",
        "\n",
        "### Behavioral Data\n",
        "\n",
        "[This dataset](https://raw.githubusercontent.com/ywen2021/CPSC392/main/Data/HW3_behavioral.csv) contains information about the media company customers' behavior on the site. The variables in the customer data include:\n",
        "\n",
        "- `id`: customer id\n",
        "- `gender`: self-disclosed gender identity, `male`, `female`, `nonbinary` or `other`\n",
        "- `age`: age in years\n",
        "- `current_income`: self-reported current annual income in thousands\n",
        "- `time_spent_browsing`: average number of minutes spent browsing website per month\n",
        "- `prop_ads_clicked`: proportion of website ads that they click on (between `0` and `1`)\n",
        "- `longest_read_time`: longest time spent consecutively on website in minutes\n",
        "- `length_of_subscription`: number of days subscribed to the magazine\n",
        "- `monthly_visits`: average number of visits to the site per month\n"
      ]
    },
    {
      "cell_type": "markdown",
      "metadata": {
        "id": "xAnkm0tXsafd"
      },
      "source": [
        "\n",
        "### Article Data\n",
        "\n",
        "[This dataset](https://raw.githubusercontent.com/ywen2021/CPSC392/main/Data/HW3_topics.csv) contains information about the number of articles customers read in each topic in the past 3 months. The topics in the customer data include:\n",
        "\n",
        "- `Stocks`\n",
        "- `Productivity`\n",
        "- `Fashion`\n",
        "- `Celebrity`\n",
        "- `Cryptocurrency`\n",
        "- `Science`\n",
        "- `Technology`\n",
        "- `SelfHelp`\n",
        "- `Fitness`\n",
        "- `AI`\n"
      ]
    },
    {
      "cell_type": "markdown",
      "metadata": {
        "id": "ScIJmjZqsafd"
      },
      "source": [
        "\n",
        "## 1. Behavioral Clustering\n",
        "- Make ggplot scatterplots of pairs of your features to give you a little bit of information about the data, and to help you decide which algorithm to use (you don’t need to make scatterplots for all possible pairs of features, just make sure each feature appears at least once).\n",
        "- Using `sklearn` `Pipeline`s, build and fit **one** clustering models (choose from **K-Means**, **Gaussian Mixture Models**, **DBSCAN**, and **Hierarchical Clustering**) using all the continuous/interval variables *except* `id`.\n",
        "- Appropriately Z-score continuous/interval variables.\n",
        "- Choose the number of clusters (if applicable) and in the **Methods** section of your report, explain how you chose. Also explain **why/how** you chose any relevant hyperparameters (such as linkage, distance metric, eps, min samples...).\n",
        "- In the **Methods** section of your report, explain **in detail** both the *pros* and *cons* of the all the clustering models (e.g. what type of data do they work well for? Are there any possible downsides of using them?) and *provide a justification* for why you chose the clustering algorithm that you did.\n",
        "- Using **plotnine** and **PCA**, create a scatterplot of your clusters by plotting the first Principal Component (PC1) on the x-axis, and the second Principal Component (PC2) on the y-axis. Color the points by their cluster. Include this plot in your **Results** Section.\n",
        "- Create at least one *other* summary of what kind of customers are in each cluster. This could be a different ggplot (built using plotnine), or a neatly formatted summary table (hint: `groupby()`). In the **Results** section, discuss in detail:\n",
        "    - what kind of customers are in each cluster\n",
        "    - how the clusters \"performed\" (e.g. are they good clusters? How can you tell?)\n",
        "    - how that information might help the company\n"
      ]
    },
    {
      "cell_type": "markdown",
      "metadata": {
        "id": "0H-wn_0Jsafe"
      },
      "source": [
        "\n",
        "## 2. Article Clustering\n",
        "- Using an `sklearn` `Pipeline`, build and fit a **Hierarchical Clustering** model using all the variables *except* `id`. Use cosine similarity as your distance metric (also called `affinity`) and `average` linkage.\n",
        "- Do **not** z-score, as these are counts.\n",
        "- Create a dendrogram and in the **Methods** section of your report, explain **what number** of cluster you decided to use and **why**.\n",
        "- In the **Results** section, discuss the performance of the model based on the dendrogram.\n",
        "- Create at least one other summary of what kind of customers are in each cluster. This could be a different ggplot (built using plotnine), or a neatly formatted summary table (hint: `groupby()`). In the **Results** section, discuss in detail what kind of customers are in each cluster, and how that information might help the company.\n"
      ]
    },
    {
      "cell_type": "markdown",
      "metadata": {
        "id": "YH2KOSTLsafe"
      },
      "source": [
        "\n",
        "## 3. Report\n",
        "\n",
        "[DOCS TEMPLATE HERE](https://docs.google.com/document/d/17xUT9y-ZvPKFCeYkrSDq8wCRJt_XCeYg0hgnZIujA5k/edit?usp=sharing)\n",
        "\n",
        "Your Technical Report is a way to practice presenting and formatting your results like you would in industry. Make sure your report and **plots** are clear, and explain things clearly. Write a report that has the following sections:\n",
        "\n",
        "1. **Introduction**: description of the problem (e.g. what are you predicting? what variables do you have available? How might this model be useful if you are successful). You should end with a sentence or two about what the impact of these models could be.\n",
        "\n",
        "2. **Methods**: describe your models in detail (as if explaining them to the CEO of the media company), as well as any pre-processing you had to do to the data.\n",
        "\n",
        "3. **Results**: How did your models perform? Describe the clusters from your Behavioral Clustering models. Were they different? If so, how? What could the CEO of the media company do with these clusters? Describe the clusters form your Article Clustering model. What could the CEO of the media company do with these clusters?\n",
        "\n",
        "4. **Discussion/Reflection**: A few sentences about what you learned from performing these analyses, and at least one suggestion for what you'd add or do differently if you were to perform this analysis again in the future."
      ]
    },
    {
      "cell_type": "code",
      "execution_count": null,
      "metadata": {
        "id": "ss08Hb6Nsafe"
      },
      "outputs": [],
      "source": []
    }
  ],
  "metadata": {
    "kernelspec": {
      "display_name": "Python 3 (ipykernel)",
      "language": "python",
      "name": "python3"
    },
    "language_info": {
      "codemirror_mode": {
        "name": "ipython",
        "version": 3
      },
      "file_extension": ".py",
      "mimetype": "text/x-python",
      "name": "python",
      "nbconvert_exporter": "python",
      "pygments_lexer": "ipython3",
      "version": "3.9.0"
    },
    "colab": {
      "provenance": []
    }
  },
  "nbformat": 4,
  "nbformat_minor": 0
}