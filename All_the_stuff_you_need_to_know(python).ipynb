{
  "cells": [
    {
      "cell_type": "code",
      "execution_count": null,
      "metadata": {
        "id": "b4v3cSJijjb8"
      },
      "outputs": [],
      "source": [
        "# import necessary packages here\n",
        "import warnings\n",
        "warnings.filterwarnings('ignore')"
      ]
    },
    {
      "cell_type": "markdown",
      "metadata": {
        "id": "5wFax4p0jjcA"
      },
      "source": [
        "1. Load the pandas library, and alias it so you can use `pd` instead of typing `pandas` each time you need to access the package.\n",
        "\n",
        "2. Load the penguin and titanic datasets from GitHub. Store them in `penguins` and `titanic` respectively.\n",
        "\n",
        "`\n",
        "penguin_url = 'https://github.com/ywen2021/CPSC392/blob/main/Data/penguins.csv'\n",
        "titanic_url = 'https://github.com/ywen2021/CPSC392/blob/main/Data/titanic.csv'\n",
        "print(\"done\")\n",
        "`\n",
        "\n"
      ]
    },
    {
      "cell_type": "code",
      "execution_count": 2,
      "metadata": {
        "id": "sJaDyk9pjjcB"
      },
      "outputs": [],
      "source": [
        "import pandas as pd\n",
        "\n",
        "penguins = pd.read_csv(\"https://raw.githubusercontent.com/ywen2021/CPSC392/main/Data/penguins.csv\")\n",
        "titanic = pd.read_csv(\"https://raw.githubusercontent.com/ywen2021/CPSC392/main/Data//titanic.csv\")"
      ]
    },
    {
      "cell_type": "markdown",
      "metadata": {
        "id": "CzgU7LJ1jjcD"
      },
      "source": [
        "3. Print the head (first 5 or 6 rows) of each data set."
      ]
    },
    {
      "cell_type": "code",
      "execution_count": null,
      "metadata": {
        "id": "Ol2Sa7hYjjcD",
        "outputId": "7170c984-245c-4eb3-851b-c35e5da2a6ef"
      },
      "outputs": [
        {
          "data": {
            "text/html": [
              "<div>\n",
              "<style scoped>\n",
              "    .dataframe tbody tr th:only-of-type {\n",
              "        vertical-align: middle;\n",
              "    }\n",
              "\n",
              "    .dataframe tbody tr th {\n",
              "        vertical-align: top;\n",
              "    }\n",
              "\n",
              "    .dataframe thead th {\n",
              "        text-align: right;\n",
              "    }\n",
              "</style>\n",
              "<table border=\"1\" class=\"dataframe\">\n",
              "  <thead>\n",
              "    <tr style=\"text-align: right;\">\n",
              "      <th></th>\n",
              "      <th>Unnamed: 0</th>\n",
              "      <th>species</th>\n",
              "      <th>island</th>\n",
              "      <th>bill_length_mm</th>\n",
              "      <th>bill_depth_mm</th>\n",
              "      <th>flipper_length_mm</th>\n",
              "      <th>body_mass_g</th>\n",
              "      <th>sex</th>\n",
              "      <th>year</th>\n",
              "    </tr>\n",
              "  </thead>\n",
              "  <tbody>\n",
              "    <tr>\n",
              "      <th>0</th>\n",
              "      <td>0</td>\n",
              "      <td>Adelie</td>\n",
              "      <td>Torgersen</td>\n",
              "      <td>39.1</td>\n",
              "      <td>18.7</td>\n",
              "      <td>181.0</td>\n",
              "      <td>3750.0</td>\n",
              "      <td>male</td>\n",
              "      <td>2007</td>\n",
              "    </tr>\n",
              "    <tr>\n",
              "      <th>1</th>\n",
              "      <td>1</td>\n",
              "      <td>Adelie</td>\n",
              "      <td>Torgersen</td>\n",
              "      <td>39.5</td>\n",
              "      <td>17.4</td>\n",
              "      <td>186.0</td>\n",
              "      <td>3800.0</td>\n",
              "      <td>female</td>\n",
              "      <td>2007</td>\n",
              "    </tr>\n",
              "    <tr>\n",
              "      <th>2</th>\n",
              "      <td>2</td>\n",
              "      <td>Adelie</td>\n",
              "      <td>Torgersen</td>\n",
              "      <td>40.3</td>\n",
              "      <td>18.0</td>\n",
              "      <td>195.0</td>\n",
              "      <td>3250.0</td>\n",
              "      <td>female</td>\n",
              "      <td>2007</td>\n",
              "    </tr>\n",
              "    <tr>\n",
              "      <th>3</th>\n",
              "      <td>3</td>\n",
              "      <td>Adelie</td>\n",
              "      <td>Torgersen</td>\n",
              "      <td>NaN</td>\n",
              "      <td>NaN</td>\n",
              "      <td>NaN</td>\n",
              "      <td>NaN</td>\n",
              "      <td>NaN</td>\n",
              "      <td>2007</td>\n",
              "    </tr>\n",
              "    <tr>\n",
              "      <th>4</th>\n",
              "      <td>4</td>\n",
              "      <td>Adelie</td>\n",
              "      <td>Torgersen</td>\n",
              "      <td>36.7</td>\n",
              "      <td>19.3</td>\n",
              "      <td>193.0</td>\n",
              "      <td>3450.0</td>\n",
              "      <td>female</td>\n",
              "      <td>2007</td>\n",
              "    </tr>\n",
              "    <tr>\n",
              "      <th>...</th>\n",
              "      <td>...</td>\n",
              "      <td>...</td>\n",
              "      <td>...</td>\n",
              "      <td>...</td>\n",
              "      <td>...</td>\n",
              "      <td>...</td>\n",
              "      <td>...</td>\n",
              "      <td>...</td>\n",
              "      <td>...</td>\n",
              "    </tr>\n",
              "    <tr>\n",
              "      <th>339</th>\n",
              "      <td>63</td>\n",
              "      <td>Chinstrap</td>\n",
              "      <td>Dream</td>\n",
              "      <td>55.8</td>\n",
              "      <td>19.8</td>\n",
              "      <td>207.0</td>\n",
              "      <td>4000.0</td>\n",
              "      <td>male</td>\n",
              "      <td>2009</td>\n",
              "    </tr>\n",
              "    <tr>\n",
              "      <th>340</th>\n",
              "      <td>64</td>\n",
              "      <td>Chinstrap</td>\n",
              "      <td>Dream</td>\n",
              "      <td>43.5</td>\n",
              "      <td>18.1</td>\n",
              "      <td>202.0</td>\n",
              "      <td>3400.0</td>\n",
              "      <td>female</td>\n",
              "      <td>2009</td>\n",
              "    </tr>\n",
              "    <tr>\n",
              "      <th>341</th>\n",
              "      <td>65</td>\n",
              "      <td>Chinstrap</td>\n",
              "      <td>Dream</td>\n",
              "      <td>49.6</td>\n",
              "      <td>18.2</td>\n",
              "      <td>193.0</td>\n",
              "      <td>3775.0</td>\n",
              "      <td>male</td>\n",
              "      <td>2009</td>\n",
              "    </tr>\n",
              "    <tr>\n",
              "      <th>342</th>\n",
              "      <td>66</td>\n",
              "      <td>Chinstrap</td>\n",
              "      <td>Dream</td>\n",
              "      <td>50.8</td>\n",
              "      <td>19.0</td>\n",
              "      <td>210.0</td>\n",
              "      <td>4100.0</td>\n",
              "      <td>male</td>\n",
              "      <td>2009</td>\n",
              "    </tr>\n",
              "    <tr>\n",
              "      <th>343</th>\n",
              "      <td>67</td>\n",
              "      <td>Chinstrap</td>\n",
              "      <td>Dream</td>\n",
              "      <td>50.2</td>\n",
              "      <td>18.7</td>\n",
              "      <td>198.0</td>\n",
              "      <td>3775.0</td>\n",
              "      <td>female</td>\n",
              "      <td>2009</td>\n",
              "    </tr>\n",
              "  </tbody>\n",
              "</table>\n",
              "<p>344 rows × 9 columns</p>\n",
              "</div>"
            ],
            "text/plain": [
              "     Unnamed: 0    species     island  bill_length_mm  bill_depth_mm  \\\n",
              "0             0     Adelie  Torgersen            39.1           18.7   \n",
              "1             1     Adelie  Torgersen            39.5           17.4   \n",
              "2             2     Adelie  Torgersen            40.3           18.0   \n",
              "3             3     Adelie  Torgersen             NaN            NaN   \n",
              "4             4     Adelie  Torgersen            36.7           19.3   \n",
              "..          ...        ...        ...             ...            ...   \n",
              "339          63  Chinstrap      Dream            55.8           19.8   \n",
              "340          64  Chinstrap      Dream            43.5           18.1   \n",
              "341          65  Chinstrap      Dream            49.6           18.2   \n",
              "342          66  Chinstrap      Dream            50.8           19.0   \n",
              "343          67  Chinstrap      Dream            50.2           18.7   \n",
              "\n",
              "     flipper_length_mm  body_mass_g     sex  year  \n",
              "0                181.0       3750.0    male  2007  \n",
              "1                186.0       3800.0  female  2007  \n",
              "2                195.0       3250.0  female  2007  \n",
              "3                  NaN          NaN     NaN  2007  \n",
              "4                193.0       3450.0  female  2007  \n",
              "..                 ...          ...     ...   ...  \n",
              "339              207.0       4000.0    male  2009  \n",
              "340              202.0       3400.0  female  2009  \n",
              "341              193.0       3775.0    male  2009  \n",
              "342              210.0       4100.0    male  2009  \n",
              "343              198.0       3775.0  female  2009  \n",
              "\n",
              "[344 rows x 9 columns]"
            ]
          },
          "execution_count": 20,
          "metadata": {},
          "output_type": "execute_result"
        }
      ],
      "source": [
        "penguins"
      ]
    },
    {
      "cell_type": "markdown",
      "metadata": {
        "id": "Q4CLDmTGjjcE"
      },
      "source": [
        "4. Store the sex column from the titanic dataset in the variable `sex`. Print it."
      ]
    },
    {
      "cell_type": "code",
      "execution_count": null,
      "metadata": {
        "id": "mF1tPjcujjcE"
      },
      "outputs": [],
      "source": [
        "sex = titanic[\"sex\"]\n",
        "sex = titanic.sex"
      ]
    },
    {
      "cell_type": "markdown",
      "metadata": {
        "id": "06w8pRG_jjcF"
      },
      "source": [
        "5. Store the 10th row from the penguin dataset in the variable `penguins_10`. Print it.\n",
        "\n",
        "6. Grab the 4th,12th rows of the titanic dataset and store them in the variable `passenger4_and_12`. Print it.\n",
        "\n",
        "7. Store the mean age of titanic passengers in the variable `mean_age`, print it.\n",
        "\n",
        "8. Create a new column in `penguins` called `bill_ratio` for the penguin dataset that contains the ratio of bill length to bill depth (in otherwords bill length divided by bill depth). Print out this column.\n",
        "\n",
        "9. Create a new data frame called `lil_boys` that only contains penguins that have a body mass less than 4000 grams. Print the first 4 rows of this dataframe.\n",
        "\n",
        "10. What is the mean bill length for each species of penguin? Store the means in the variables `bl_Adelie`, `bl_Chinstrap` and `bl_Gentoo` respectively. Print them out.\n",
        "\n",
        "11. Which class from the titanic dataset had the highest proportion of surviors? Print out the proportion of people who survived for each class.\n",
        "\n",
        "12. Is there a difference in the average fare paid between males and females in the titanic dataset? Use pandas to find your answer.\n",
        "\n",
        "13. Create a dataframe called `small_penguin` that has all the rows from `penguins` but only the columns `bill_length_mm`, `species` ,`bill_depth_mm` , `flipper_length_mm` , and `body_mass_g`\n",
        "14. delelte `flipper_length_mm` from dataframe `small_penguin`\n",
        "\n",
        "15. Using .info() and .describe() on dataframe `small_penguin` to see what you can get\n",
        "16. use groupby on dataframe `small_penguin` to get species average bill length\n",
        "17. get data from `small_penguin` where bill length less than 39 and bill depth less than 18, print it"
      ]
    }
  ],
  "metadata": {
    "hide_input": false,
    "kernelspec": {
      "display_name": "Python 3 (ipykernel)",
      "language": "python",
      "name": "python3"
    },
    "language_info": {
      "codemirror_mode": {
        "name": "ipython",
        "version": 3
      },
      "file_extension": ".py",
      "mimetype": "text/x-python",
      "name": "python",
      "nbconvert_exporter": "python",
      "pygments_lexer": "ipython3",
      "version": "3.10.0"
    },
    "toc": {
      "base_numbering": 1,
      "nav_menu": {},
      "number_sections": true,
      "sideBar": true,
      "skip_h1_title": false,
      "title_cell": "Table of Contents",
      "title_sidebar": "Contents",
      "toc_cell": false,
      "toc_position": {},
      "toc_section_display": true,
      "toc_window_display": false
    },
    "colab": {
      "provenance": []
    }
  },
  "nbformat": 4,
  "nbformat_minor": 0
}