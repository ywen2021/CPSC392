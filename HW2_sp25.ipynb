{
  "cells": [
    {
      "cell_type": "markdown",
      "metadata": {
        "id": "4PrKq7T8YLSc"
      },
      "source": [
        "# Homework 2\n",
        "Homeworks are an individual assessment, you should not work in groups.\n",
        "\n",
        "You will be turning in:\n",
        "\n",
        "1. An .ipynb or .py with just your code (show all code necessary for the analysis, but remove superfluous code)\n",
        "2. A PDF with your Report (rendered via Google Docs)\n",
        "\n",
        "\n",
        "## Data\n",
        "We're going to be using some [business churn data](https://raw.githubusercontent.com/ywen2021/CPSC392/main/Data/streaming.csv) to help a streaming service predict whether customers will \"churn\" (a.k.a. stop being a customer). The variables include:\n",
        "\n",
        "- `gender`: self-disclosed gender identity, `male`, `female`, `nonbinary` or `other`\n",
        "- `age`: age in years\n",
        "- `income`: self-reported annual income in thousands\n",
        "- `monthssubbed`: months subscribed to the service.\n",
        "- `plan`: the plan the user is currently subscribed to, `P` for premium, `A` for ad-free, `B` for basic (with ads)\n",
        "- `meanhourswatched`: mean hours of content watched per month\n",
        "- `competitorsub`: whether or not the customer is subscribed to your competitor's streaming service `0` for no, `1` for yes\n",
        "- `topgenre`: most common genre of content the user watches, includes many categories.\n",
        "- `secondgenre`: second most common genre of content the user watches, includes many categories.\n",
        "- `numprofiles`: number of user profiles associated with the account.\n",
        "- `cancelled`: whether or not the user has cancelled the servce in the past, `0` for no, `1` for yes\n",
        "- `downgraded`: whether or not the user has downgraded the servce at some point in the past (Premium is the highest plan, then Ad Free, then Basic), `0` for no, `1` for yes\n",
        "- `bundle`: whether or not the user purchased their plan as a \"bundle\" with another service, `0` for no, `1` for yes\n",
        "- `kids`: whether or not the user has an active Kids profile on their account, `0` for no, `1` for yes\n",
        "- `longestsession`: the length of the longest watch session from the user, in minutes\n",
        "- `churn`: whether or not the customer has \"churned\" (i.e. left the service), `0` for no, `1` for yes\n",
        "\n",
        "## 1. Modeling\n",
        "- Drop Missing Values and Reset Indices if needed.\n",
        "- Using *Train-Test-Split Model Validation* with an 90/10 split and `sklearn` `Pipeline`, build **two** models (**Logistic Regression**, and **Gradient Boosting Tree**) that predict `churn` using all the other variables.\n",
        "- Z-score continuous/interval variables, and One Hot Encode categorical variables (when needed) before fitting your models.\n",
        "- Once the modela are trained, calculate the *Accuracy, Recall, Precision, and ROC AUC* for both the training and testing sets for both models.\n",
        "- Assess the **calibration** for the **test set** of both models.\n",
        "- Choose whichever model you think performed the best and use it in the Recommendation System part (below)\n"
      ]
    },
    {
      "cell_type": "markdown",
      "metadata": {
        "id": "YBOm2mWzYLSf"
      },
      "source": [
        "\n",
        "## 2. Reccomendation System\n",
        "\n",
        "(NOTE: this is similar to the Spotify recommendation activity we did for K-Nearest Neighbors)\n",
        "\n",
        "<img src=\"https://drive.google.com/uc?export=view&id=1hFqrcLQM7Ibxu_KwvmJxG4pwSIx6598N\" alt=\"Q\" width = “400”/>\n",
        "\n",
        "\n",
        "- Use your model to calculate the probability of churning for [these new customers](https://raw.githubusercontent.com/ywen2021/CPSC392/refs/heads/main/Data/streamingNEW.csv).\n",
        "\n",
        "<br>\n",
        "\n",
        "- Grab the 200 customers (rows) with the highest predicted probability of churning (hint: sort the dataset by predicted probability using [`.nlargest()`](https://pandas.pydata.org/docs/reference/api/pandas.DataFrame.nlargest.html)). These are your \"high-risk\" customers.\n",
        "\n",
        "<br>\n",
        "\n",
        "- For each of your 200 high-risk customers, use [this customer Favorite Films Dataset](https://raw.githubusercontent.com/ywen2021/CPSC392/refs/heads/main/Data/streamingFILMS.csv) to find the 10 most similar users to your high-risk customer\n",
        "    - fit a [`NearestNeighbors()`](https://scikit-learn.org/stable/modules/generated/sklearn.neighbors.NearestNeighbors.html#sklearn.neighbors.NearestNeighbors) model on [this customer Favorite Films Dataset](https://raw.githubusercontent.com/ywen2021/CPSC392/refs/heads/main/Data/streamingFILMS.csv)\n",
        "    - grab the 10 nearest neighbors for your 200 high-risk users using `.kneighbors()`\n",
        "    - use only the `age`, `income`, and `meanhourswatched` variables to calculate nearest neighbors\n",
        "\n",
        "\n",
        "<br>\n",
        "\n",
        "- For each of your 200 high-risk customers, add the row numbers of the 10 similar users to a list, and add those as a column to your test set data frame. It should look like this (`.head(6)` of data shown as an example):\n",
        "\n",
        "|gender|age      |income|monthssubbed|plan|meanhourswatched|competitorsub|numprofiles|cancelled|downgraded|bundle|kids|longestsession|topgenre|secondgenre|pred          |neighbors   |\n",
        "|------|---------|------|------------|----|----------------|-------------|-----------|---------|----------|------|----|--------------|--------|-----------|--------------|----|\n",
        "|woman |25.0     |73.51 |27          |B   |22.22           |1            |2          |1        |0         |1     |0   |263.62        |Action  |Drama      |0.83          |[ 93 374 186   5 430 352  82 267 295 387]|\n",
        "|woman |26.0     |57.69 |6           |B   |22.3            |0            |3          |1        |0         |0     |0   |122.39        |Comedy  |Thriller   |0.82          |[317 328 376 307 248 209 202 416  11 445]|\n",
        "|woman |69.0     |33.62 |4           |B   |22.9            |1            |3          |0        |0         |0     |0   |74.85         |Drama   |Comedy     |0.81          |[481 199 183 358 484 187 448 407 316 259]|\n",
        "|woman |20.0     |52.05 |1           |P   |9.36            |1            |2          |1        |0         |0     |1   |113.91        |Thriller|ScienceFiction|0.78          |[381 342   8 194 307 216 370 363 197 416]|\n",
        "|woman |25.0     |49.33 |29          |B   |9.9             |0            |1          |1        |0         |0     |0   |49.43         |Comedy  |Horror     |0.78          |[194 342   8 432 377 232 370 381 306 427]|\n",
        "|nonbinary|63.0     |41.88 |29          |B   |12.22           |1            |2          |1        |0         |0     |0   |237.46        |Drama   |Thriller   |0.75          |[183 481  89 316 204 142 113 343 364 286]|\n",
        "\n",
        "\n"
      ]
    },
    {
      "cell_type": "markdown",
      "metadata": {
        "id": "rN-up3bfYLSh"
      },
      "source": [
        "\n",
        "## 3. Report\n",
        "\n",
        "[DOCS TEMPLATE HERE](https://docs.google.com/document/d/10IgKNGkou-vedkKxXhw7aBxh9x48_z27eMnNq8KpdPw/edit?usp=sharing)\n",
        "\n",
        "Your Technical Report is a way to practice presenting and formatting your results like you would in industry. Make sure your report is clear, and explains things clearly. Write a report that has the following sections:\n",
        "\n",
        "1. **Introduction**: description of the problem (e.g. what are you predicting? what variables do you have available? How might this model be useful if you are successful). You should end with a sentence or two about what the impact of these models could be.\n",
        "\n",
        "2. **Methods**: describe your models in detail (as if explaining them to the CEO of the streaming service), as well as any pre-processing you had to do to the data.\n",
        "\n",
        "3. **Results**: How well did your models perform according to the various metrics, were the models overfit (how can you tell)? What do those performance metrics (Acc, Precision, Recall, ROC AUC, Calibration...) tell you about the model? How much do you trust the results of your models? **Which one model would you choose to put \"in production\"? What are the pros and cons of each model (think about model performance, time/space complexity, interpretability...etc)**. Is the model well calibrated? Does that matter? How would you suggest the CEO use the classification model you chose? How would you suggest the CEO strategically use the movie suggestions you generated?\n",
        "\n",
        "4. **Discussion/Reflection**: A few sentences about what you learned from performing these analyses, and at least one suggestion for what you'd add or do differently if you were to perform this analysis again in the future."
      ]
    }
  ],
  "metadata": {
    "kernelspec": {
      "display_name": "Python 3 (ipykernel)",
      "language": "python",
      "name": "python3"
    },
    "language_info": {
      "codemirror_mode": {
        "name": "ipython",
        "version": 3
      },
      "file_extension": ".py",
      "mimetype": "text/x-python",
      "name": "python",
      "nbconvert_exporter": "python",
      "pygments_lexer": "ipython3",
      "version": "3.9.0"
    },
    "colab": {
      "provenance": []
    }
  },
  "nbformat": 4,
  "nbformat_minor": 0
}